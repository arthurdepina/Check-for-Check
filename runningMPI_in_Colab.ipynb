{
  "nbformat": 4,
  "nbformat_minor": 0,
  "metadata": {
    "colab": {
      "name": "runningMPI-in-Colab.ipynb",
      "provenance": [],
      "include_colab_link": true
    },
    "kernelspec": {
      "name": "python3",
      "display_name": "Python 3"
    },
    "language_info": {
      "name": "python"
    }
  },
  "cells": [
    {
      "cell_type": "markdown",
      "metadata": {
        "id": "view-in-github",
        "colab_type": "text"
      },
      "source": [
        "<a href=\"https://colab.research.google.com/github/arthurdepina/Check-for-Check/blob/main/runningMPI_in_Colab.ipynb\" target=\"_parent\"><img src=\"https://colab.research.google.com/assets/colab-badge.svg\" alt=\"Open In Colab\"/></a>"
      ]
    },
    {
      "cell_type": "code",
      "source": [
        "from google.colab import files\n",
        "files.upload()"
      ],
      "metadata": {
        "id": "PTRcWwkpsCi8",
        "outputId": "58e8d575-ef44-40bd-b78c-2af810222397",
        "colab": {
          "base_uri": "https://localhost:8080/",
          "height": 127
        }
      },
      "execution_count": 1,
      "outputs": [
        {
          "output_type": "display_data",
          "data": {
            "text/plain": [
              "<IPython.core.display.HTML object>"
            ],
            "text/html": [
              "\n",
              "     <input type=\"file\" id=\"files-f73ea937-09d3-41d9-8748-64ac9394cbce\" name=\"files[]\" multiple disabled\n",
              "        style=\"border:none\" />\n",
              "     <output id=\"result-f73ea937-09d3-41d9-8748-64ac9394cbce\">\n",
              "      Upload widget is only available when the cell has been executed in the\n",
              "      current browser session. Please rerun this cell to enable.\n",
              "      </output>\n",
              "      <script>// Copyright 2017 Google LLC\n",
              "//\n",
              "// Licensed under the Apache License, Version 2.0 (the \"License\");\n",
              "// you may not use this file except in compliance with the License.\n",
              "// You may obtain a copy of the License at\n",
              "//\n",
              "//      http://www.apache.org/licenses/LICENSE-2.0\n",
              "//\n",
              "// Unless required by applicable law or agreed to in writing, software\n",
              "// distributed under the License is distributed on an \"AS IS\" BASIS,\n",
              "// WITHOUT WARRANTIES OR CONDITIONS OF ANY KIND, either express or implied.\n",
              "// See the License for the specific language governing permissions and\n",
              "// limitations under the License.\n",
              "\n",
              "/**\n",
              " * @fileoverview Helpers for google.colab Python module.\n",
              " */\n",
              "(function(scope) {\n",
              "function span(text, styleAttributes = {}) {\n",
              "  const element = document.createElement('span');\n",
              "  element.textContent = text;\n",
              "  for (const key of Object.keys(styleAttributes)) {\n",
              "    element.style[key] = styleAttributes[key];\n",
              "  }\n",
              "  return element;\n",
              "}\n",
              "\n",
              "// Max number of bytes which will be uploaded at a time.\n",
              "const MAX_PAYLOAD_SIZE = 100 * 1024;\n",
              "\n",
              "function _uploadFiles(inputId, outputId) {\n",
              "  const steps = uploadFilesStep(inputId, outputId);\n",
              "  const outputElement = document.getElementById(outputId);\n",
              "  // Cache steps on the outputElement to make it available for the next call\n",
              "  // to uploadFilesContinue from Python.\n",
              "  outputElement.steps = steps;\n",
              "\n",
              "  return _uploadFilesContinue(outputId);\n",
              "}\n",
              "\n",
              "// This is roughly an async generator (not supported in the browser yet),\n",
              "// where there are multiple asynchronous steps and the Python side is going\n",
              "// to poll for completion of each step.\n",
              "// This uses a Promise to block the python side on completion of each step,\n",
              "// then passes the result of the previous step as the input to the next step.\n",
              "function _uploadFilesContinue(outputId) {\n",
              "  const outputElement = document.getElementById(outputId);\n",
              "  const steps = outputElement.steps;\n",
              "\n",
              "  const next = steps.next(outputElement.lastPromiseValue);\n",
              "  return Promise.resolve(next.value.promise).then((value) => {\n",
              "    // Cache the last promise value to make it available to the next\n",
              "    // step of the generator.\n",
              "    outputElement.lastPromiseValue = value;\n",
              "    return next.value.response;\n",
              "  });\n",
              "}\n",
              "\n",
              "/**\n",
              " * Generator function which is called between each async step of the upload\n",
              " * process.\n",
              " * @param {string} inputId Element ID of the input file picker element.\n",
              " * @param {string} outputId Element ID of the output display.\n",
              " * @return {!Iterable<!Object>} Iterable of next steps.\n",
              " */\n",
              "function* uploadFilesStep(inputId, outputId) {\n",
              "  const inputElement = document.getElementById(inputId);\n",
              "  inputElement.disabled = false;\n",
              "\n",
              "  const outputElement = document.getElementById(outputId);\n",
              "  outputElement.innerHTML = '';\n",
              "\n",
              "  const pickedPromise = new Promise((resolve) => {\n",
              "    inputElement.addEventListener('change', (e) => {\n",
              "      resolve(e.target.files);\n",
              "    });\n",
              "  });\n",
              "\n",
              "  const cancel = document.createElement('button');\n",
              "  inputElement.parentElement.appendChild(cancel);\n",
              "  cancel.textContent = 'Cancel upload';\n",
              "  const cancelPromise = new Promise((resolve) => {\n",
              "    cancel.onclick = () => {\n",
              "      resolve(null);\n",
              "    };\n",
              "  });\n",
              "\n",
              "  // Wait for the user to pick the files.\n",
              "  const files = yield {\n",
              "    promise: Promise.race([pickedPromise, cancelPromise]),\n",
              "    response: {\n",
              "      action: 'starting',\n",
              "    }\n",
              "  };\n",
              "\n",
              "  cancel.remove();\n",
              "\n",
              "  // Disable the input element since further picks are not allowed.\n",
              "  inputElement.disabled = true;\n",
              "\n",
              "  if (!files) {\n",
              "    return {\n",
              "      response: {\n",
              "        action: 'complete',\n",
              "      }\n",
              "    };\n",
              "  }\n",
              "\n",
              "  for (const file of files) {\n",
              "    const li = document.createElement('li');\n",
              "    li.append(span(file.name, {fontWeight: 'bold'}));\n",
              "    li.append(span(\n",
              "        `(${file.type || 'n/a'}) - ${file.size} bytes, ` +\n",
              "        `last modified: ${\n",
              "            file.lastModifiedDate ? file.lastModifiedDate.toLocaleDateString() :\n",
              "                                    'n/a'} - `));\n",
              "    const percent = span('0% done');\n",
              "    li.appendChild(percent);\n",
              "\n",
              "    outputElement.appendChild(li);\n",
              "\n",
              "    const fileDataPromise = new Promise((resolve) => {\n",
              "      const reader = new FileReader();\n",
              "      reader.onload = (e) => {\n",
              "        resolve(e.target.result);\n",
              "      };\n",
              "      reader.readAsArrayBuffer(file);\n",
              "    });\n",
              "    // Wait for the data to be ready.\n",
              "    let fileData = yield {\n",
              "      promise: fileDataPromise,\n",
              "      response: {\n",
              "        action: 'continue',\n",
              "      }\n",
              "    };\n",
              "\n",
              "    // Use a chunked sending to avoid message size limits. See b/62115660.\n",
              "    let position = 0;\n",
              "    do {\n",
              "      const length = Math.min(fileData.byteLength - position, MAX_PAYLOAD_SIZE);\n",
              "      const chunk = new Uint8Array(fileData, position, length);\n",
              "      position += length;\n",
              "\n",
              "      const base64 = btoa(String.fromCharCode.apply(null, chunk));\n",
              "      yield {\n",
              "        response: {\n",
              "          action: 'append',\n",
              "          file: file.name,\n",
              "          data: base64,\n",
              "        },\n",
              "      };\n",
              "\n",
              "      let percentDone = fileData.byteLength === 0 ?\n",
              "          100 :\n",
              "          Math.round((position / fileData.byteLength) * 100);\n",
              "      percent.textContent = `${percentDone}% done`;\n",
              "\n",
              "    } while (position < fileData.byteLength);\n",
              "  }\n",
              "\n",
              "  // All done.\n",
              "  yield {\n",
              "    response: {\n",
              "      action: 'complete',\n",
              "    }\n",
              "  };\n",
              "}\n",
              "\n",
              "scope.google = scope.google || {};\n",
              "scope.google.colab = scope.google.colab || {};\n",
              "scope.google.colab._files = {\n",
              "  _uploadFiles,\n",
              "  _uploadFilesContinue,\n",
              "};\n",
              "})(self);\n",
              "</script> "
            ]
          },
          "metadata": {}
        },
        {
          "output_type": "stream",
          "name": "stdout",
          "text": [
            "Saving rand.txt to rand.txt\n"
          ]
        },
        {
          "output_type": "execute_result",
          "data": {
            "text/plain": [
              "{'rand.txt': b'41\\n67\\n34\\n0\\n69\\n24\\n78\\n58\\n62\\n64\\n5\\n45\\n81\\n27\\n61\\n91\\n95\\n42\\n27\\n36\\n91\\n4\\n2\\n53\\n92\\n82\\n21\\n16\\n18\\n95\\n47\\n26\\n71\\n38\\n69\\n12\\n67\\n99\\n35\\n94\\n3\\n11\\n22\\n33\\n73\\n64\\n41\\n11\\n53\\n68\\n47\\n44\\n62\\n57\\n37\\n59\\n23\\n41\\n29\\n78\\n16\\n35\\n90\\n42\\n88\\n6\\n40\\n42\\n64\\n48\\n46\\n5\\n90\\n29\\n70\\n50\\n6\\n1\\n93\\n48\\n29\\n23\\n84\\n54\\n56\\n40\\n66\\n76\\n31\\n8\\n44\\n39\\n26\\n23\\n37\\n38\\n18\\n82\\n29\\n41\\n33\\n15\\n39\\n58\\n4\\n30\\n77\\n6\\n73\\n86\\n21\\n45\\n24\\n72\\n70\\n29\\n77\\n73\\n97\\n12\\n86\\n90\\n61\\n36\\n55\\n67\\n55\\n74\\n31\\n52\\n50\\n50\\n41\\n24\\n66\\n30\\n7\\n91\\n7\\n37\\n57\\n87\\n53\\n83\\n45\\n9\\n9\\n58\\n21\\n88\\n22\\n46\\n6\\n30\\n13\\n68\\n0\\n91\\n62\\n55\\n10\\n59\\n24\\n37\\n48\\n83\\n95\\n41\\n2\\n50\\n91\\n36\\n74\\n20\\n96\\n21\\n48\\n99\\n68\\n84\\n81\\n34\\n53\\n99\\n18\\n38\\n0\\n88\\n27\\n67\\n28\\n93\\n48\\n83\\n7\\n21\\n10\\n17\\n13\\n14\\n9\\n16\\n35\\n51\\n0\\n49\\n19\\n56\\n98\\n3\\n24\\n8\\n44\\n9\\n89\\n2\\n95\\n85\\n93\\n43\\n23\\n87\\n14\\n3\\n48\\n0\\n58\\n18\\n80\\n96\\n98\\n81\\n89\\n98\\n9\\n57\\n72\\n22\\n38\\n92\\n38\\n79\\n90\\n57\\n58\\n91\\n15\\n88\\n56\\n11\\n2\\n34\\n72\\n55\\n28\\n46\\n62\\n86\\n75\\n33\\n69\\n42\\n44\\n16\\n81\\n98\\n22\\n51\\n21\\n99\\n57\\n76\\n92\\n89\\n75\\n12\\n0\\n10\\n3\\n69\\n61\\n88\\n1\\n89\\n55\\n23\\n2\\n85\\n82\\n85\\n88\\n26\\n17\\n57\\n32\\n32\\n69\\n54\\n21\\n89\\n76\\n29\\n68\\n92\\n25\\n55\\n34\\n49\\n41\\n12\\n45\\n60\\n18\\n53\\n39\\n23\\n79\\n96\\n87\\n29\\n49\\n37\\n66\\n49\\n93\\n95\\n97\\n16\\n86\\n5\\n88\\n82\\n55\\n34\\n14\\n1\\n16\\n71\\n86\\n63\\n13\\n55\\n85\\n53\\n12\\n8\\n32\\n45\\n13\\n56\\n21\\n58\\n46\\n82\\n81\\n44\\n96\\n22\\n29\\n61\\n35\\n50\\n73\\n66\\n44\\n59\\n92\\n39\\n53\\n24\\n54\\n10\\n45\\n49\\n86\\n13\\n74\\n22\\n68\\n18\\n87\\n5\\n58\\n91\\n2\\n25\\n77\\n14\\n14\\n24\\n34\\n74\\n72\\n59\\n33\\n70\\n87\\n97\\n18\\n77\\n73\\n70\\n63\\n68\\n92\\n85\\n2\\n80\\n13\\n27\\n2\\n99\\n27\\n25\\n43\\n24\\n23\\n72\\n61\\n81\\n3\\n32\\n5\\n93\\n25\\n31\\n92\\n42\\n22\\n86\\n64\\n0\\n87\\n60\\n13\\n74\\n70\\n70\\n35\\n33\\n11\\n60\\n96\\n67\\n85\\n50\\n40\\n94\\n95\\n24\\n19\\n25\\n76\\n94\\n58\\n2\\n71\\n66\\n78\\n93\\n51\\n84\\n18\\n64\\n19\\n52\\n0\\n87\\n60\\n26\\n10\\n57\\n70\\n15\\n76\\n27\\n43\\n58\\n64\\n9\\n82\\n86\\n65\\n87\\n77\\n74\\n25\\n27\\n29\\n28\\n23\\n20\\n2\\n62\\n23\\n96\\n37\\n61\\n95\\n25\\n64\\n60\\n2\\n16\\n30\\n26\\n11\\n71\\n11\\n47\\n53\\n20\\n90\\n24\\n88\\n63\\n40\\n51\\n62\\n29\\n0\\n13\\n58\\n78\\n65\\n7\\n77\\n0\\n58\\n39\\n3\\n60\\n57\\n24\\n77\\n8\\n13\\n87\\n1\\n50\\n60\\n28\\n93\\n84\\n5\\n40\\n11\\n4\\n35\\n56\\n72\\n50\\n23\\n85\\n56\\n16\\n26\\n57\\n26\\n57\\n37\\n71\\n69\\n61\\n96\\n22\\n17\\n12\\n17\\n96\\n85\\n41\\n23\\n29\\n29\\n65\\n59\\n32\\n96\\n55\\n53\\n62\\n84\\n34\\n54\\n72\\n57\\n69\\n32\\n63\\n7\\n83\\n11\\n35\\n67\\n48\\n75\\n38\\n23\\n42\\n54\\n11\\n41\\n75\\n59\\n25\\n21\\n70\\n26\\n34\\n5\\n83\\n50\\n98\\n79\\n1\\n93\\n34\\n37\\n34\\n56\\n93\\n76\\n5\\n62\\n48\\n81\\n0\\n13\\n41\\n55\\n55\\n42\\n62\\n11\\n77\\n24\\n78\\n52\\n43\\n96\\n73\\n40\\n13\\n75\\n72\\n18\\n10\\n17\\n32\\n12\\n95\\n69\\n31\\n40\\n88\\n85\\n90\\n97\\n89\\n90\\n45\\n53\\n14\\n51\\n40\\n44\\n58\\n35\\n59\\n92\\n5\\n64\\n81\\n3\\n29\\n75\\n8\\n92\\n97\\n49\\n56\\n61\\n27\\n67\\n41\\n29\\n40\\n13\\n74\\n1\\n77\\n15\\n83\\n13\\n92\\n24\\n1\\n92\\n59\\n70\\n28\\n27\\n84\\n75\\n86\\n98\\n70\\n87\\n47\\n4\\n3\\n21\\n63\\n6\\n63\\n10\\n71\\n89\\n40\\n64\\n42\\n19\\n13\\n91\\n4\\n18\\n32\\n50\\n5\\n75\\n39\\n3\\n22\\n98\\n47\\n84\\n48\\n71\\n64\\n13\\n75\\n45\\n12\\n46\\n78\\n69\\n62\\n19\\n85\\n89\\n44\\n65\\n40\\n45\\n8\\n18\\n70\\n1\\n23\\n32\\n72\\n52\\n87\\n70\\n63\\n1\\n3\\n23\\n27\\n0\\n69\\n15\\n65\\n28\\n43\\n47\\n88\\n43\\n37\\n9\\n63\\n49\\n81\\n88\\n42\\n8\\n60\\n21\\n58\\n54\\n88\\n46\\n90\\n49\\n43\\n30\\n20\\n48\\n67\\n36\\n83\\n35\\n26\\n85\\n38\\n53\\n29\\n24\\n48\\n23\\n59\\n57\\n66\\n44\\n55\\n18\\n26\\n11\\n25\\n55\\n1\\n49\\n96\\n84\\n15\\n64\\n42\\n75\\n13\\n42\\n96\\n48\\n72\\n26\\n6\\n73\\n29\\n4\\n5\\n26\\n12\\n75\\n93\\n65\\n36\\n36\\n41\\n14\\n94\\n56\\n52\\n36\\n38\\n82\\n55\\n15\\n31\\n30\\n41\\n25\\n11\\n37\\n86\\n90\\n50\\n62\\n34\\n93\\n53\\n16\\n52\\n8\\n62\\n33\\n54\\n3\\n34\\n3\\n56\\n48\\n24\\n17\\n13\\n9\\n28\\n0\\n80\\n18\\n58\\n50\\n55\\n61\\n64\\n3\\n76\\n43\\n9\\n2\\n61\\n89\\n48\\n82\\n53\\n74\\n20\\n2\\n23\\n31\\n69\\n78\\n59\\n8\\n19\\n71\\n3\\n45\\n81\\n4\\n92\\n85\\n13\\n98\\n89\\n22\\n38\\n37\\n10\\n61\\n34\\n8\\n61\\n59\\n93\\n15\\n69\\n37\\n69\\n58\\n0\\n71\\n64\\n17\\n15\\n55\\n15\\n30\\n39\\n12\\n88\\n82\\n54\\n85\\n10\\n84\\n74\\n80\\n15\\n51\\n41\\n15\\n79\\n10\\n98\\n73\\n88\\n77\\n32\\n56\\n89\\n13\\n8\\n41\\n90\\n23\\n63\\n28\\n84\\n78\\n0\\n71\\n85\\n74\\n71\\n33\\n67\\n53\\n95\\n68\\n25\\n76\\n29\\n50\\n98\\n9\\n93\\n86\\n80\\n16\\n49\\n'}"
            ]
          },
          "metadata": {},
          "execution_count": 1
        }
      ]
    },
    {
      "cell_type": "code",
      "execution_count": 2,
      "metadata": {
        "id": "wT_CNHAL8KG_",
        "outputId": "ebf655b5-dc8e-4a04-8b17-f4c94915409c",
        "colab": {
          "base_uri": "https://localhost:8080/"
        }
      },
      "outputs": [
        {
          "output_type": "stream",
          "name": "stdout",
          "text": [
            "Reading package lists... Done\n",
            "Building dependency tree... Done\n",
            "Reading state information... Done\n",
            "libopenmpi-dev is already the newest version (4.1.2-2ubuntu1).\n",
            "openmpi-bin is already the newest version (4.1.2-2ubuntu1).\n",
            "openmpi-bin set to manually installed.\n",
            "openmpi-common is already the newest version (4.1.2-2ubuntu1).\n",
            "openmpi-common set to manually installed.\n",
            "0 upgraded, 0 newly installed, 0 to remove and 29 not upgraded.\n"
          ]
        }
      ],
      "source": [
        "!apt install openmpi-bin openmpi-common libopenmpi-dev"
      ]
    },
    {
      "cell_type": "code",
      "source": [
        "%%writefile teste-mpi.c\n",
        "#include \"mpi.h\"\n",
        "#include <stdio.h>\n",
        "#include <math.h>\n",
        "#include <unistd.h>\n",
        "#include <stdlib.h>\n",
        "\n",
        "#define MAXSIZE 1000\n",
        "int main(int argc, char **argv)\n",
        "{\n",
        "\tint myid, numprocs;\n",
        "\tint data[MAXSIZE], i, x, low, high, myresult=0, result=0;\n",
        "\tFILE *fp;\n",
        "\tMPI_Init(&argc,&argv);\n",
        "\tMPI_Comm_size(MPI_COMM_WORLD,&numprocs);\n",
        "\tMPI_Comm_rank(MPI_COMM_WORLD,&myid);\n",
        "\tif (myid == 0) {  /* Open input file and initialize data */\n",
        "\t\tif ((fp = fopen(\"rand.txt\",\"r\")) == NULL) {\n",
        "\t\t\tprintf(\"Can't open the input file: rand.txt\\n\\n\");\n",
        "\t\t\texit(1);\n",
        "\t\t}\n",
        "\t\tfor(i = 0; i < MAXSIZE; i++) fscanf(fp,\"%d\\n\", &data[i]);\n",
        "\t}\n",
        "\tMPI_Bcast(data, MAXSIZE, MPI_INT, 0, MPI_COMM_WORLD); /* broadcast data */\n",
        "\tx = MAXSIZE/numprocs; /* Add my portion Of data */\n",
        "\tlow = myid * x;\n",
        "\thigh = low + x;\n",
        "\tfor(i = low; i < high; i++)\n",
        "\t\tmyresult += data[i];\n",
        "\tchar hostname[30];\n",
        "\tgethostname(hostname, 30);\n",
        "\tprintf(\"I got %d from %d - %s\\n\", myresult, myid, hostname); /* Compute global sum */\n",
        "\tMPI_Reduce(&myresult, &result, 1, MPI_INT, MPI_SUM, 0, MPI_COMM_WORLD);\n",
        "\tif (myid == 0) printf(\"The sum is %d.\\n\", result);\n",
        "\tMPI_Finalize();\n",
        "\treturn 0;\n",
        "}\n",
        "\n"
      ],
      "metadata": {
        "id": "IjyITTZb8X4b",
        "outputId": "fd6e60f5-a467-4a21-8cdf-7e83807c6818",
        "colab": {
          "base_uri": "https://localhost:8080/"
        }
      },
      "execution_count": 9,
      "outputs": [
        {
          "output_type": "stream",
          "name": "stdout",
          "text": [
            "Overwriting teste-mpi.c\n"
          ]
        }
      ]
    },
    {
      "cell_type": "code",
      "source": [
        "!mpicc -o teste-mpi teste-mpi.c"
      ],
      "metadata": {
        "id": "e2YZ_O_e8y9s"
      },
      "execution_count": 10,
      "outputs": []
    },
    {
      "cell_type": "code",
      "source": [
        "!mpiexec --allow-run-as-root --oversubscribe -n 4 ./teste-mpi > output.txt\n",
        "!cat output.txt"
      ],
      "metadata": {
        "id": "2bGIuJ1q85NZ",
        "outputId": "d41935df-023c-4443-8542-c669db108046",
        "colab": {
          "base_uri": "https://localhost:8080/"
        }
      },
      "execution_count": 11,
      "outputs": [
        {
          "output_type": "stream",
          "name": "stdout",
          "text": [
            "I got 11968 from 2 - e6bccd87dc76\n",
            "I got 11689 from 3 - e6bccd87dc76\n",
            "I got 12677 from 1 - e6bccd87dc76\n",
            "I got 11921 from 0 - e6bccd87dc76\n",
            "The sum is 48255.\n"
          ]
        }
      ]
    },
    {
      "cell_type": "code",
      "source": [
        "%%writefile mpi_pi_scatter_gather.c\n",
        "// calculo pi scatter e gather\n",
        "\n",
        "#include <mpi.h>\n",
        "#include <stdio.h>\n",
        "#include <stdlib.h>\n",
        "\n",
        "int main(int argc, char *argv[]) {\n",
        "    int rank, size;\n",
        "    MPI_Init(&argc, &argv);\n",
        "    MPI_Comm_rank(MPI_COMM_WORLD, &rank);\n",
        "    MPI_Comm_size(MPI_COMM_WORLD, &size);\n",
        "\n",
        "    long long n = 1000000;\n",
        "    if (argc > 1) {\n",
        "        n = atoll(argv[1]);\n",
        "    }\n",
        "\n",
        "    int *work_info = NULL;\n",
        "    if (rank == 0) {\n",
        "        work_info = (int*) malloc(size * 2 * sizeof(int));\n",
        "        int base = n / size;\n",
        "        int rem = n % size;\n",
        "        int current_start = 0;\n",
        "        for (int i = 0; i < size; i++) {\n",
        "            int count = base + (i < rem ? 1 : 0);\n",
        "            work_info[2 * i]     = current_start;\n",
        "            work_info[2 * i + 1] = count;\n",
        "            current_start += count;\n",
        "        }\n",
        "    }\n",
        "\n",
        "    int local_info[2];\n",
        "    MPI_Scatter(work_info, 2, MPI_INT, local_info, 2, MPI_INT, 0, MPI_COMM_WORLD);\n",
        "    if (rank == 0) {\n",
        "        free(work_info);\n",
        "    }\n",
        "    int start = local_info[0];\n",
        "    int count = local_info[1];\n",
        "\n",
        "\n",
        "    double local_sum = 0.0;\n",
        "    int sign = (start % 2 == 0) ? 1 : -1;\n",
        "    for (int i = 0; i < count; i++) {\n",
        "        int index = start + i;\n",
        "        local_sum += sign / (double)(2 * index + 1);\n",
        "        sign = -sign;\n",
        "    }\n",
        "\n",
        "    double *all_sums = NULL;\n",
        "    if (rank == 0) {\n",
        "        all_sums = (double*) malloc(size * sizeof(double));\n",
        "    }\n",
        "    MPI_Gather(&local_sum, 1, MPI_DOUBLE, all_sums, 1, MPI_DOUBLE, 0, MPI_COMM_WORLD);\n",
        "\n",
        "    if (rank == 0) {\n",
        "        double global_sum = 0.0;\n",
        "        for (int i = 0; i < size; i++) {\n",
        "            global_sum += all_sums[i];\n",
        "        }\n",
        "        double pi = 4.0 * global_sum;\n",
        "        printf(\"Pi (scatter/gather): %.15f\\n\", pi);\n",
        "        free(all_sums);\n",
        "    }\n",
        "\n",
        "    MPI_Finalize();\n",
        "    return 0;\n",
        "}"
      ],
      "metadata": {
        "id": "stcYGH8muWgJ",
        "outputId": "a26a3aa9-220f-42a4-9384-442ea5e7c823",
        "colab": {
          "base_uri": "https://localhost:8080/"
        }
      },
      "execution_count": 20,
      "outputs": [
        {
          "output_type": "stream",
          "name": "stdout",
          "text": [
            "Overwriting mpi_pi_scatter_gather.c\n"
          ]
        }
      ]
    },
    {
      "cell_type": "code",
      "source": [
        "!mpicc -o mpi_pi_scatter_gather mpi_pi_scatter_gather.c\n",
        "!mpiexec --allow-run-as-root --oversubscribe -n 4 ./mpi_pi_scatter_gather"
      ],
      "metadata": {
        "id": "cEP9zFM6ugTw",
        "outputId": "9109cb2e-cfbb-4191-a65e-b35f749018f7",
        "colab": {
          "base_uri": "https://localhost:8080/"
        }
      },
      "execution_count": 21,
      "outputs": [
        {
          "output_type": "stream",
          "name": "stdout",
          "text": [
            "Pi (scatter/gather): 3.141591653589781\n"
          ]
        }
      ]
    },
    {
      "cell_type": "code",
      "source": [
        "%%writefile mpi_pi_send_receive.c\n",
        "// calculo pi send e receive\n",
        "\n",
        "#include <mpi.h>\n",
        "#include <stdio.h>\n",
        "#include <stdlib.h>\n",
        "\n",
        "int main(int argc, char *argv[]) {\n",
        "    int rank, size;\n",
        "    MPI_Init(&argc, &argv);\n",
        "    MPI_Comm_rank(MPI_COMM_WORLD, &rank);\n",
        "    MPI_Comm_size(MPI_COMM_WORLD, &size);\n",
        "\n",
        "    long long n = 1000000;\n",
        "    if (argc > 1) {\n",
        "        n = atoll(argv[1]);\n",
        "    }\n",
        "\n",
        "    int start, count;\n",
        "    if (rank == 0) {\n",
        "        int base = n / size;\n",
        "        int rem = n % size;\n",
        "        int current_start = 0;\n",
        "        count = base + (0 < rem ? 1 : 0);\n",
        "        start = current_start;\n",
        "        current_start += count;\n",
        "        for (int i = 1; i < size; i++) {\n",
        "            int temp_count = base + (i < rem ? 1 : 0);\n",
        "            int temp_start = current_start;\n",
        "            current_start += temp_count;\n",
        "            int work[2] = {temp_start, temp_count};\n",
        "            MPI_Send(work, 2, MPI_INT, i, 0, MPI_COMM_WORLD);\n",
        "        }\n",
        "    } else {\n",
        "        int work[2];\n",
        "        MPI_Recv(work, 2, MPI_INT, 0, 0, MPI_COMM_WORLD, MPI_STATUS_IGNORE);\n",
        "        start = work[0];\n",
        "        count = work[1];\n",
        "    }\n",
        "\n",
        "    double local_sum = 0.0;\n",
        "    int sign = (start % 2 == 0) ? 1 : -1;\n",
        "    for (int i = 0; i < count; i++) {\n",
        "        int index = start + i;\n",
        "        local_sum += sign / (double)(2 * index + 1);\n",
        "        sign = -sign;\n",
        "    }\n",
        "\n",
        "    if (rank == 0) {\n",
        "        double global_sum = local_sum;\n",
        "        double temp_sum;\n",
        "        for (int i = 1; i < size; i++) {\n",
        "            MPI_Recv(&temp_sum, 1, MPI_DOUBLE, i, 0, MPI_COMM_WORLD, MPI_STATUS_IGNORE);\n",
        "            global_sum += temp_sum;\n",
        "        }\n",
        "        double pi = 4.0 * global_sum;\n",
        "        printf(\"Pi (send/receive): %.15f\\n\", pi);\n",
        "    } else {\n",
        "        MPI_Send(&local_sum, 1, MPI_DOUBLE, 0, 0, MPI_COMM_WORLD);\n",
        "    }\n",
        "\n",
        "    MPI_Finalize();\n",
        "    return 0;\n",
        "}"
      ],
      "metadata": {
        "id": "MFIAqgRavHY3",
        "outputId": "86b95656-6173-464b-ba8e-5991e9af64de",
        "colab": {
          "base_uri": "https://localhost:8080/"
        }
      },
      "execution_count": 18,
      "outputs": [
        {
          "output_type": "stream",
          "name": "stdout",
          "text": [
            "Overwriting mpi_pi_send_receive.c\n"
          ]
        }
      ]
    },
    {
      "cell_type": "code",
      "source": [
        "!mpicc -o mpi_pi_send_receive mpi_pi_send_receive.c\n",
        "!mpiexec --allow-run-as-root --oversubscribe -n 4 ./mpi_pi_send_receive"
      ],
      "metadata": {
        "id": "q_dfXp6BvMNu",
        "outputId": "c9b0556e-fb8b-4a47-be07-98d47eedff0e",
        "colab": {
          "base_uri": "https://localhost:8080/"
        }
      },
      "execution_count": 19,
      "outputs": [
        {
          "output_type": "stream",
          "name": "stdout",
          "text": [
            "Pi (send/receive): 3.141591653589781\n"
          ]
        }
      ]
    }
  ]
}